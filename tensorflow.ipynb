{
 "cells": [
  {
   "cell_type": "code",
   "execution_count": 3,
   "id": "streaming-hawaiian",
   "metadata": {},
   "outputs": [],
   "source": [
    "import cv2\n",
    "import numpy as np\n",
    "import pandas as pd\n",
    "from sklearn.preprocessing import StandardScaler\n",
    "from sklearn.model_selection import train_test_split\n",
    "from matplotlib import pyplot as plt\n",
    "plt.rcParams['figure.figsize'] = [15, 10]\n",
    "\n",
    "from tensorflow.keras import Model, metrics\n",
    "from tensorflow.keras.layers import Dense, Dropout, Input\n",
    "\n",
    "# Set the seeds\n",
    "from numpy.random import seed\n",
    "from tensorflow.random import set_seed\n",
    "seed_value = 1234578790\n",
    "seed(seed_value)\n",
    "set_seed(seed_value)"
   ]
  },
  {
   "cell_type": "code",
   "execution_count": 4,
   "id": "cordless-laundry",
   "metadata": {},
   "outputs": [],
   "source": [
    "def plot_history(history):\n",
    "    h = history.history\n",
    "    epochs = range(len(h['loss']))\n",
    "\n",
    "    plt.subplot(121), plt.plot(epochs, h['loss'], '.-', epochs, h['val_loss'], '.-')\n",
    "    plt.grid(True), plt.xlabel('epochs'), plt.ylabel('loss')\n",
    "    plt.legend(['Train', 'Validation'])\n",
    "    plt.subplot(122), plt.plot(epochs, np.array(h['mean_absolute_error'])*1e5, '.-',\n",
    "                               epochs, np.array(h['val_mean_absolute_error'])*1e5, '.-')\n",
    "    plt.grid(True), plt.xlabel('epochs'), plt.ylabel('MAE')\n",
    "    plt.legend(['Train', 'Validation'])\n",
    "        \n",
    "    print('Train MAE     ', h['mean_absolute_error'][-1]*1e5)\n",
    "    print('Validation MAE', h['val_mean_absolute_error'][-1]*1e5)"
   ]
  },
  {
   "cell_type": "code",
   "execution_count": null,
   "id": "prospective-orlando",
   "metadata": {},
   "outputs": [],
   "source": []
  },
  {
   "cell_type": "code",
   "execution_count": 5,
   "id": "express-edinburgh",
   "metadata": {},
   "outputs": [
    {
     "name": "stdout",
     "output_type": "stream",
     "text": [
      "Wall time: 3min 29s\n"
     ]
    }
   ],
   "source": [
    "%%time\n",
    "import pandas as pd\n",
    "\n",
    "df1 = pd.read_excel('part2/output1.xlsx', index_col=0) #1\n",
    "df2 = pd.read_excel('part2/output2.xlsx', index_col=0) #1\n",
    "df3 = pd.read_excel('part2/output3.xlsx', index_col=0) #1\n",
    "df4 = pd.read_excel('part2/output4.xlsx', index_col=0) #1\n",
    "df5 = pd.read_excel('part2/output5.xlsx', index_col=0) \n",
    "df6 = pd.read_excel('part2/output6.xlsx', index_col=0) \n",
    "df7 = pd.read_excel('part2/output7.xlsx', index_col=0) \n",
    "df8 = pd.read_excel('part2/output8.xlsx', index_col=0) \n",
    "df9 = pd.read_excel('part2/output9.xlsx', index_col=0) \n",
    "#df10 = pd.read_excel('part2/output10.xlsx', index_col=0) #3\n",
    "#df11 = pd.read_excel('part2/output11.xlsx', index_col=0) #3\n",
    "df12 = pd.read_excel('part2/output12.xlsx', index_col=0)\n",
    "df13 = pd.read_excel('part2/output13.xlsx', index_col=0) \n",
    "df14 = pd.read_excel('part2/output14.xlsx', index_col=0) \n",
    "df15 = pd.read_excel('part2/output15.xlsx', index_col=0) \n",
    "df16 = pd.read_excel('part2/output16.xlsx', index_col=0)\n",
    "df17 = pd.read_excel('part2/output17.xlsx', index_col=0)\n",
    "df_out1 = pd.read_excel('part2/output_1+3-1.xlsx', index_col=0) #3\n",
    "df_out2 = pd.read_excel('part2/output_2+3-1.xlsx', index_col=0) #3"
   ]
  },
  {
   "cell_type": "code",
   "execution_count": 6,
   "id": "broadband-panic",
   "metadata": {},
   "outputs": [],
   "source": [
    "df1_ = pd.read_excel('part2/check1.xlsx', index_col=0) \n",
    "df2_ = pd.read_excel('part2/check2.xlsx', index_col=0) \n",
    "df3_ = pd.read_excel('part2/check3.xlsx', index_col=0) "
   ]
  },
  {
   "cell_type": "code",
   "execution_count": 129,
   "id": "alternate-suicide",
   "metadata": {},
   "outputs": [],
   "source": [
    "frames = [df1,df4,df5,df6,df7,df8,df9,df12,df13,df14,df15,df16,df17,df_out1,df2,df3,df_out2]\n",
    "result = pd.concat(frames)\n",
    "\n",
    "res = [df2,df3,df1_,df2_,df3_]\n",
    "ress = pd.concat(res)\n",
    "#ress.to_excel(\"part2/main_base_fool_validation.xlsx\")"
   ]
  },
  {
   "cell_type": "code",
   "execution_count": 130,
   "id": "environmental-authorization",
   "metadata": {},
   "outputs": [],
   "source": [
    "#new_y = result[['y+','y-']]\n",
    "new_y = result['y+']\n",
    "new_X = result.drop(['y+', 'y-','column25'], axis=1)"
   ]
  },
  {
   "cell_type": "code",
   "execution_count": 131,
   "id": "celtic-reach",
   "metadata": {},
   "outputs": [],
   "source": [
    "# Filling nan with the mean of the column:\n",
    "#new_X = new_X.fillna(0)\n",
    "\n",
    "# Split into 75% for train and 25% for test\n",
    "x_train, x_test, y_train, y_test = train_test_split(new_X, new_y, test_size=0.25, random_state=seed_value, shuffle = True)\n",
    "from sklearn.utils import shuffle\n",
    "new_X = shuffle(new_X)\n",
    "\n",
    "scale = StandardScaler()\n",
    "new_X = scale.fit_transform(new_X)\n",
    "\n",
    "new_y_ = ress[['y+','y-']]\n",
    "new_X_ = ress.drop(['y+', 'y-','column25'], axis=1)\n",
    "new_X_ = scale.fit_transform(new_X_)"
   ]
  },
  {
   "cell_type": "code",
   "execution_count": null,
   "id": "virgin-counter",
   "metadata": {},
   "outputs": [],
   "source": []
  },
  {
   "cell_type": "code",
   "execution_count": null,
   "id": "departmental-gambling",
   "metadata": {},
   "outputs": [],
   "source": []
  },
  {
   "cell_type": "code",
   "execution_count": 145,
   "id": "funky-characteristic",
   "metadata": {},
   "outputs": [
    {
     "name": "stdout",
     "output_type": "stream",
     "text": [
      "Model: \"model_21\"\n",
      "_________________________________________________________________\n",
      " Layer (type)                Output Shape              Param #   \n",
      "=================================================================\n",
      " input_24 (InputLayer)       [(None, 24)]              0         \n",
      "                                                                 \n",
      " dense_68 (Dense)            (None, 100000)            2500000   \n",
      "                                                                 \n",
      " dense_69 (Dense)            (None, 1)                 100001    \n",
      "                                                                 \n",
      "=================================================================\n",
      "Total params: 2,600,001\n",
      "Trainable params: 2,600,001\n",
      "Non-trainable params: 0\n",
      "_________________________________________________________________\n"
     ]
    }
   ],
   "source": [
    "import tensorflow\n",
    "\n",
    "inputs = Input(shape=new_X.shape[1])\n",
    "outputs = Dense(100000, activation='tanh')(inputs)\n",
    "#layer = tensorflow.keras.layers.Dropout(.2)\n",
    "#outputs = layer(outputs, training=True)\n",
    "#outputs = Dense(1000, activation='tanh')(outputs)\n",
    "#outputs = Dense(1000, activation='tanh')(outputs)\n",
    "outputs = Dense(1, activation='tanh')(outputs)\n",
    "model = Model(inputs, outputs)\n",
    "\n",
    "model.compile(optimizer ='adam', loss ='mean_squared_error', metrics =[metrics.mae])\n",
    "model.summary()"
   ]
  },
  {
   "cell_type": "code",
   "execution_count": null,
   "id": "portable-ceremony",
   "metadata": {},
   "outputs": [],
   "source": [
    "history = model.fit(x_train, y_train, validation_data=(x_test,y_test), batch_size = 10000, epochs=1, verbose=1)"
   ]
  },
  {
   "cell_type": "code",
   "execution_count": 67,
   "id": "broad-feature",
   "metadata": {},
   "outputs": [],
   "source": [
    "#0.6456"
   ]
  },
  {
   "cell_type": "code",
   "execution_count": 138,
   "id": "tamil-hospital",
   "metadata": {},
   "outputs": [
    {
     "name": "stdout",
     "output_type": "stream",
     "text": [
      "Train MAE      97945.41001319885\n",
      "Validation MAE 97823.6436843872\n"
     ]
    },
    {
     "data": {
      "image/png": "[encoded data removed]",
      "text/plain": [
       "<Figure size 1080x720 with 2 Axes>"
      ]
     },
     "metadata": {
      "needs_background": "light"
     },
     "output_type": "display_data"
    }
   ],
   "source": [
    "plot_history(history)"
   ]
  },
  {
   "cell_type": "code",
   "execution_count": 139,
   "id": "third-supervision",
   "metadata": {},
   "outputs": [],
   "source": [
    "new_y_ = ress['y+'] #ress[['y+','y-']]\n",
    "new_X_ = ress.drop(['y+', 'y-','column25'], axis=1)"
   ]
  },
  {
   "cell_type": "code",
   "execution_count": 140,
   "id": "annual-suicide",
   "metadata": {},
   "outputs": [],
   "source": [
    "ans = model.predict(new_X_)"
   ]
  },
  {
   "cell_type": "code",
   "execution_count": 141,
   "id": "dutch-tiffany",
   "metadata": {},
   "outputs": [
    {
     "data": {
      "text/plain": [
       "0        1\n",
       "1        1\n",
       "2        1\n",
       "3        1\n",
       "4        1\n",
       "        ..\n",
       "31855    3\n",
       "31856    3\n",
       "31857    3\n",
       "31858    3\n",
       "31859    3\n",
       "Name: y+, Length: 141174, dtype: int64"
      ]
     },
     "execution_count": 141,
     "metadata": {},
     "output_type": "execute_result"
    }
   ],
   "source": [
    "new_y_"
   ]
  },
  {
   "cell_type": "code",
   "execution_count": 142,
   "id": "quick-algebra",
   "metadata": {},
   "outputs": [
    {
     "data": {
      "text/plain": [
       "array([[1.],\n",
       "       [1.],\n",
       "       [1.],\n",
       "       ...,\n",
       "       [1.],\n",
       "       [1.],\n",
       "       [1.]], dtype=float32)"
      ]
     },
     "execution_count": 142,
     "metadata": {},
     "output_type": "execute_result"
    }
   ],
   "source": [
    "ans"
   ]
  },
  {
   "cell_type": "code",
   "execution_count": null,
   "id": "photographic-milan",
   "metadata": {},
   "outputs": [],
   "source": []
  },
  {
   "cell_type": "code",
   "execution_count": null,
   "id": "checked-conjunction",
   "metadata": {},
   "outputs": [],
   "source": []
  },
  {
   "cell_type": "code",
   "execution_count": null,
   "id": "eligible-gazette",
   "metadata": {},
   "outputs": [],
   "source": []
  },
  {
   "cell_type": "code",
   "execution_count": null,
   "id": "incredible-assumption",
   "metadata": {},
   "outputs": [],
   "source": []
  }
 ],
 "metadata": {
  "kernelspec": {
   "display_name": "Python 3 (ipykernel)",
   "language": "python",
   "name": "python3"
  },
  "language_info": {
   "codemirror_mode": {
    "name": "ipython",
    "version": 3
   },
   "file_extension": ".py",
   "mimetype": "text/x-python",
   "name": "python",
   "nbconvert_exporter": "python",
   "pygments_lexer": "ipython3",
   "version": "3.8.7"
  }
 },
 "nbformat": 4,
 "nbformat_minor": 5
}
